{
 "cells": [
  {
   "cell_type": "code",
   "execution_count": 2,
   "id": "87faec5e",
   "metadata": {},
   "outputs": [],
   "source": [
    "from sklearn.model_selection import train_test_split \n",
    "import matplotlib.pyplot as plt \n",
    "import numpy as np\n",
    "from sklearn.linear_model import LinearRegression\n",
    "import pandas as pd"
   ]
  },
  {
   "cell_type": "markdown",
   "id": "35b83643",
   "metadata": {},
   "source": [
    "## cleaning the dataset "
   ]
  },
  {
   "cell_type": "code",
   "execution_count": 3,
   "id": "65b55683",
   "metadata": {},
   "outputs": [],
   "source": [
    "dataset = pd.read_csv(\"Heart_Disease_Prediction.csv\")"
   ]
  },
  {
   "cell_type": "code",
   "execution_count": 4,
   "id": "6e974ca3",
   "metadata": {},
   "outputs": [
    {
     "data": {
      "text/html": [
       "<div>\n",
       "<style scoped>\n",
       "    .dataframe tbody tr th:only-of-type {\n",
       "        vertical-align: middle;\n",
       "    }\n",
       "\n",
       "    .dataframe tbody tr th {\n",
       "        vertical-align: top;\n",
       "    }\n",
       "\n",
       "    .dataframe thead th {\n",
       "        text-align: right;\n",
       "    }\n",
       "</style>\n",
       "<table border=\"1\" class=\"dataframe\">\n",
       "  <thead>\n",
       "    <tr style=\"text-align: right;\">\n",
       "      <th></th>\n",
       "      <th>Age</th>\n",
       "      <th>Sex</th>\n",
       "      <th>Chest pain type</th>\n",
       "      <th>BP</th>\n",
       "      <th>Cholesterol</th>\n",
       "      <th>FBS over 120</th>\n",
       "      <th>EKG results</th>\n",
       "      <th>Max HR</th>\n",
       "      <th>Exercise angina</th>\n",
       "      <th>ST depression</th>\n",
       "      <th>Slope of ST</th>\n",
       "      <th>Number of vessels fluro</th>\n",
       "      <th>Thallium</th>\n",
       "      <th>Heart Disease</th>\n",
       "    </tr>\n",
       "  </thead>\n",
       "  <tbody>\n",
       "    <tr>\n",
       "      <th>265</th>\n",
       "      <td>52</td>\n",
       "      <td>1</td>\n",
       "      <td>3</td>\n",
       "      <td>172</td>\n",
       "      <td>199</td>\n",
       "      <td>1</td>\n",
       "      <td>0</td>\n",
       "      <td>162</td>\n",
       "      <td>0</td>\n",
       "      <td>0.5</td>\n",
       "      <td>1</td>\n",
       "      <td>0</td>\n",
       "      <td>7</td>\n",
       "      <td>Absence</td>\n",
       "    </tr>\n",
       "    <tr>\n",
       "      <th>266</th>\n",
       "      <td>44</td>\n",
       "      <td>1</td>\n",
       "      <td>2</td>\n",
       "      <td>120</td>\n",
       "      <td>263</td>\n",
       "      <td>0</td>\n",
       "      <td>0</td>\n",
       "      <td>173</td>\n",
       "      <td>0</td>\n",
       "      <td>0.0</td>\n",
       "      <td>1</td>\n",
       "      <td>0</td>\n",
       "      <td>7</td>\n",
       "      <td>Absence</td>\n",
       "    </tr>\n",
       "    <tr>\n",
       "      <th>267</th>\n",
       "      <td>56</td>\n",
       "      <td>0</td>\n",
       "      <td>2</td>\n",
       "      <td>140</td>\n",
       "      <td>294</td>\n",
       "      <td>0</td>\n",
       "      <td>2</td>\n",
       "      <td>153</td>\n",
       "      <td>0</td>\n",
       "      <td>1.3</td>\n",
       "      <td>2</td>\n",
       "      <td>0</td>\n",
       "      <td>3</td>\n",
       "      <td>Absence</td>\n",
       "    </tr>\n",
       "    <tr>\n",
       "      <th>268</th>\n",
       "      <td>57</td>\n",
       "      <td>1</td>\n",
       "      <td>4</td>\n",
       "      <td>140</td>\n",
       "      <td>192</td>\n",
       "      <td>0</td>\n",
       "      <td>0</td>\n",
       "      <td>148</td>\n",
       "      <td>0</td>\n",
       "      <td>0.4</td>\n",
       "      <td>2</td>\n",
       "      <td>0</td>\n",
       "      <td>6</td>\n",
       "      <td>Absence</td>\n",
       "    </tr>\n",
       "    <tr>\n",
       "      <th>269</th>\n",
       "      <td>67</td>\n",
       "      <td>1</td>\n",
       "      <td>4</td>\n",
       "      <td>160</td>\n",
       "      <td>286</td>\n",
       "      <td>0</td>\n",
       "      <td>2</td>\n",
       "      <td>108</td>\n",
       "      <td>1</td>\n",
       "      <td>1.5</td>\n",
       "      <td>2</td>\n",
       "      <td>3</td>\n",
       "      <td>3</td>\n",
       "      <td>Presence</td>\n",
       "    </tr>\n",
       "  </tbody>\n",
       "</table>\n",
       "</div>"
      ],
      "text/plain": [
       "     Age  Sex  Chest pain type   BP  Cholesterol  FBS over 120  EKG results  \\\n",
       "265   52    1                3  172          199             1            0   \n",
       "266   44    1                2  120          263             0            0   \n",
       "267   56    0                2  140          294             0            2   \n",
       "268   57    1                4  140          192             0            0   \n",
       "269   67    1                4  160          286             0            2   \n",
       "\n",
       "     Max HR  Exercise angina  ST depression  Slope of ST  \\\n",
       "265     162                0            0.5            1   \n",
       "266     173                0            0.0            1   \n",
       "267     153                0            1.3            2   \n",
       "268     148                0            0.4            2   \n",
       "269     108                1            1.5            2   \n",
       "\n",
       "     Number of vessels fluro  Thallium Heart Disease  \n",
       "265                        0         7       Absence  \n",
       "266                        0         7       Absence  \n",
       "267                        0         3       Absence  \n",
       "268                        0         6       Absence  \n",
       "269                        3         3      Presence  "
      ]
     },
     "execution_count": 4,
     "metadata": {},
     "output_type": "execute_result"
    }
   ],
   "source": [
    "dataset.tail()"
   ]
  },
  {
   "cell_type": "code",
   "execution_count": 5,
   "id": "abdf50e2",
   "metadata": {},
   "outputs": [
    {
     "name": "stdout",
     "output_type": "stream",
     "text": [
      "     Presence\n",
      "0           1\n",
      "1           0\n",
      "2           1\n",
      "3           0\n",
      "4           0\n",
      "..        ...\n",
      "265         0\n",
      "266         0\n",
      "267         0\n",
      "268         0\n",
      "269         1\n",
      "\n",
      "[270 rows x 1 columns]\n",
      "          Age  Sex  Chest pain type     BP  Cholesterol  FBS over 120  \\\n",
      "0    0.909091  1.0             1.00  0.650     0.570922           0.0   \n",
      "1    0.870130  0.0             0.75  0.575     1.000000           0.0   \n",
      "2    0.740260  1.0             0.50  0.620     0.462766           0.0   \n",
      "3    0.831169  1.0             1.00  0.640     0.466312           0.0   \n",
      "4    0.961039  0.0             0.50  0.600     0.476950           0.0   \n",
      "..        ...  ...              ...    ...          ...           ...   \n",
      "265  0.675325  1.0             0.75  0.860     0.352837           1.0   \n",
      "266  0.571429  1.0             0.50  0.600     0.466312           0.0   \n",
      "267  0.727273  0.0             0.50  0.700     0.521277           0.0   \n",
      "268  0.740260  1.0             1.00  0.700     0.340426           0.0   \n",
      "269  0.870130  1.0             1.00  0.800     0.507092           0.0   \n",
      "\n",
      "     EKG results    Max HR  Exercise angina  ST depression  Slope of ST  \\\n",
      "0            1.0  0.539604              0.0       0.387097     0.666667   \n",
      "1            1.0  0.792079              0.0       0.258065     0.666667   \n",
      "2            0.0  0.698020              0.0       0.048387     0.333333   \n",
      "3            0.0  0.519802              1.0       0.032258     0.666667   \n",
      "4            1.0  0.599010              1.0       0.032258     0.333333   \n",
      "..           ...       ...              ...            ...          ...   \n",
      "265          0.0  0.801980              0.0       0.080645     0.333333   \n",
      "266          0.0  0.856436              0.0       0.000000     0.333333   \n",
      "267          1.0  0.757426              0.0       0.209677     0.666667   \n",
      "268          0.0  0.732673              0.0       0.064516     0.666667   \n",
      "269          1.0  0.534653              1.0       0.241935     0.666667   \n",
      "\n",
      "     Number of vessels fluro  Thallium  \n",
      "0                   1.000000  0.428571  \n",
      "1                   0.000000  1.000000  \n",
      "2                   0.000000  1.000000  \n",
      "3                   0.333333  1.000000  \n",
      "4                   0.333333  0.428571  \n",
      "..                       ...       ...  \n",
      "265                 0.000000  1.000000  \n",
      "266                 0.000000  1.000000  \n",
      "267                 0.000000  0.428571  \n",
      "268                 0.000000  0.857143  \n",
      "269                 1.000000  0.428571  \n",
      "\n",
      "[270 rows x 13 columns]\n"
     ]
    }
   ],
   "source": [
    "X = dataset.iloc[ : , :-1]\n",
    "Y = dataset.iloc[ : , -1 ]\n",
    "\n",
    "X = X / X.max(axis=0)\n",
    "\n",
    "Y = pd.get_dummies(Y)\n",
    "Y = Y.drop(columns=['Absence'])\n",
    "\n",
    "\n",
    "Y.shape\n",
    "print(Y)\n",
    "print(X)"
   ]
  },
  {
   "cell_type": "code",
   "execution_count": 6,
   "id": "9ad16346",
   "metadata": {},
   "outputs": [],
   "source": [
    "X_train , X_test , Y_train , Y_test = train_test_split(X, Y, test_size = 0.2, random_state = 0)"
   ]
  },
  {
   "cell_type": "markdown",
   "id": "70b56e35",
   "metadata": {},
   "source": [
    "## Training the model"
   ]
  },
  {
   "cell_type": "code",
   "execution_count": 7,
   "id": "d07554b8",
   "metadata": {},
   "outputs": [
    {
     "data": {
      "text/plain": [
       "LinearRegression()"
      ]
     },
     "execution_count": 7,
     "metadata": {},
     "output_type": "execute_result"
    }
   ],
   "source": [
    "model = LinearRegression()\n",
    "model.fit(X_train, Y_train)"
   ]
  },
  {
   "cell_type": "code",
   "execution_count": 8,
   "id": "0fbacca7",
   "metadata": {},
   "outputs": [
    {
     "data": {
      "text/plain": [
       "array([-0.61346143])"
      ]
     },
     "execution_count": 8,
     "metadata": {},
     "output_type": "execute_result"
    }
   ],
   "source": [
    "model.coef_\n",
    "model.intercept_"
   ]
  },
  {
   "cell_type": "markdown",
   "id": "ebf52e89",
   "metadata": {},
   "source": [
    "## Testing "
   ]
  },
  {
   "cell_type": "code",
   "execution_count": 9,
   "id": "d6bec42e",
   "metadata": {},
   "outputs": [
    {
     "name": "stdout",
     "output_type": "stream",
     "text": [
      "(54,)\n",
      "(54, 1)\n",
      "     Presence\n",
      "64          0\n",
      "135         0\n",
      "153         0\n",
      "189         1\n",
      "253         0\n",
      "198         0\n",
      "144         1\n",
      "180         0\n",
      "256         0\n",
      "15          0\n",
      "244         0\n",
      "139         0\n",
      "124         0\n",
      "103         1\n",
      "8           1\n",
      "166         0\n",
      "45          0\n",
      "199         1\n",
      "59          1\n",
      "264         1\n",
      "176         1\n",
      "55          0\n",
      "7           1\n",
      "76          0\n",
      "252         1\n",
      "83          0\n",
      "190         0\n",
      "136         0\n",
      "188         0\n",
      "101         1\n",
      "96          0\n",
      "74          0\n",
      "261         1\n",
      "215         0\n",
      "227         1\n",
      "226         1\n",
      "92          1\n",
      "159         1\n",
      "219         0\n",
      "182         1\n",
      "116         1\n",
      "27          0\n",
      "154         0\n",
      "230         1\n",
      "236         0\n",
      "37          1\n",
      "187         0\n",
      "134         0\n",
      "20          1\n",
      "240         1\n",
      "181         1\n",
      "207         0\n",
      "206         0\n",
      "146         1\n",
      "[ 0.34520321  0.37828575  0.63073669  0.92939885  0.14284218  0.13837591\n",
      "  0.41027224  0.40941579  0.39308712  0.22326791  0.31505293  0.53194455\n",
      "  0.51116299  1.09322281  0.92611368  0.12350313  0.11373525  0.87758341\n",
      "  0.62076322  0.36107655  1.40725315 -0.06033867  0.91222804  0.66985567\n",
      "  0.44738757  0.34678089  0.30465007  0.11643923  0.36094799  0.45165873\n",
      "  0.40881639  0.36891387  1.14299663 -0.04120757  0.76782383  0.52022196\n",
      "  1.03947439  0.81383647 -0.0344974   0.42784774  0.53717596  0.07467343\n",
      "  0.06737286  0.65853479  0.13392485  0.01437938  0.80669982  0.45905686\n",
      "  1.15965259  0.6974864   1.04025439  0.59736415  0.1131307   0.34886079]\n"
     ]
    }
   ],
   "source": [
    "Y_pred = model.predict(X_test).flatten()    # predicted value of y_test\n",
    "#Y_test = Y_test.to_numpy().flatten()\n",
    "\n",
    "print(Y_pred.shape)\n",
    "print(Y_test.shape)\n",
    "print(Y_test)\n",
    "print(Y_pred)"
   ]
  },
  {
   "cell_type": "code",
   "execution_count": 13,
   "id": "ea45f4dd",
   "metadata": {},
   "outputs": [
    {
     "name": "stdout",
     "output_type": "stream",
     "text": [
      "[ 0.  0.  1.  1.  0.  0.  0.  0.  0.  0.  0.  1.  1.  1.  1.  0.  0.  1.\n",
      "  1.  0.  1. -0.  1.  1.  0.  0.  0.  0.  0.  0.  0.  0.  1. -0.  1.  1.\n",
      "  1.  1. -0.  0.  1.  0.  0.  1.  0.  0.  1.  0.  1.  1.  1.  1.  0.  0.]\n",
      "0.638596132687604\n"
     ]
    }
   ],
   "source": [
    "Y_pred = Y_pred.round()\n",
    "\n",
    "score = model.score(X_test, Y_pred)\n",
    "print(Y_pred)\n",
    "print(score)"
   ]
  },
  {
   "cell_type": "code",
   "execution_count": 15,
   "id": "b7321932",
   "metadata": {},
   "outputs": [
    {
     "name": "stdout",
     "output_type": "stream",
     "text": [
      "[[47.05598381]]\n"
     ]
    },
    {
     "name": "stderr",
     "output_type": "stream",
     "text": [
      "/Users/kislayadityaoj/opt/anaconda3/lib/python3.9/site-packages/sklearn/base.py:450: UserWarning: X does not have valid feature names, but LinearRegression was fitted with feature names\n",
      "  warnings.warn(\n"
     ]
    }
   ],
   "source": [
    "values = [[21 , 1 , 1 , 106 , 200 , 0, 0,100 , 0 , 0.1 , 1, 0 , 3 ]] # Normalize first\n",
    "my_heart = model.predict(values)\n",
    "print(my_heart)"
   ]
  },
  {
   "cell_type": "code",
   "execution_count": null,
   "id": "8415b4ce",
   "metadata": {},
   "outputs": [],
   "source": []
  }
 ],
 "metadata": {
  "kernelspec": {
   "display_name": "Python 3 (ipykernel)",
   "language": "python",
   "name": "python3"
  },
  "language_info": {
   "codemirror_mode": {
    "name": "ipython",
    "version": 3
   },
   "file_extension": ".py",
   "mimetype": "text/x-python",
   "name": "python",
   "nbconvert_exporter": "python",
   "pygments_lexer": "ipython3",
   "version": "3.9.12"
  }
 },
 "nbformat": 4,
 "nbformat_minor": 5
}
