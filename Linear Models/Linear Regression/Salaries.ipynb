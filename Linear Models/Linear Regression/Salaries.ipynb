{
 "cells": [
  {
   "cell_type": "code",
   "execution_count": 1,
   "id": "660e1656-c639-45e9-bf4b-8f540264be76",
   "metadata": {},
   "outputs": [
    {
     "name": "stderr",
     "output_type": "stream",
     "text": [
      "/Users/kislayadityaoj/opt/anaconda3/lib/python3.9/site-packages/scipy/__init__.py:146: UserWarning: A NumPy version >=1.16.5 and <1.23.0 is required for this version of SciPy (detected version 1.26.4\n",
      "  warnings.warn(f\"A NumPy version >={np_minversion} and <{np_maxversion}\"\n"
     ]
    }
   ],
   "source": [
    "import numpy as np\n",
    "from sklearn.linear_model import LinearRegression\n",
    "import pandas as pd\n",
    "import matplotlib.pyplot as plt\n",
    "from sklearn import preprocessing, svm\n",
    "from sklearn.preprocessing import LabelEncoder \n",
    "from sklearn.model_selection import train_test_split\n",
    "from sklearn import metrics"
   ]
  },
  {
   "cell_type": "code",
   "execution_count": 2,
   "id": "c9b74c04-5bd1-4087-b7df-20a414b29a6b",
   "metadata": {},
   "outputs": [],
   "source": [
    "dataset = pd.read_csv('../../Datasets/salaries.csv')"
   ]
  },
  {
   "cell_type": "code",
   "execution_count": 3,
   "id": "6d53b274-d6c7-447f-bb96-cd7c65e02c47",
   "metadata": {},
   "outputs": [
    {
     "data": {
      "text/html": [
       "<div>\n",
       "<style scoped>\n",
       "    .dataframe tbody tr th:only-of-type {\n",
       "        vertical-align: middle;\n",
       "    }\n",
       "\n",
       "    .dataframe tbody tr th {\n",
       "        vertical-align: top;\n",
       "    }\n",
       "\n",
       "    .dataframe thead th {\n",
       "        text-align: right;\n",
       "    }\n",
       "</style>\n",
       "<table border=\"1\" class=\"dataframe\">\n",
       "  <thead>\n",
       "    <tr style=\"text-align: right;\">\n",
       "      <th></th>\n",
       "      <th>work_year</th>\n",
       "      <th>experience_level</th>\n",
       "      <th>employment_type</th>\n",
       "      <th>job_title</th>\n",
       "      <th>salary</th>\n",
       "      <th>salary_currency</th>\n",
       "      <th>salary_in_usd</th>\n",
       "      <th>employee_residence</th>\n",
       "      <th>remote_ratio</th>\n",
       "      <th>company_location</th>\n",
       "      <th>company_size</th>\n",
       "    </tr>\n",
       "  </thead>\n",
       "  <tbody>\n",
       "    <tr>\n",
       "      <th>0</th>\n",
       "      <td>2024</td>\n",
       "      <td>MI</td>\n",
       "      <td>FT</td>\n",
       "      <td>Data Scientist</td>\n",
       "      <td>120000</td>\n",
       "      <td>USD</td>\n",
       "      <td>120000</td>\n",
       "      <td>AU</td>\n",
       "      <td>0</td>\n",
       "      <td>AU</td>\n",
       "      <td>S</td>\n",
       "    </tr>\n",
       "    <tr>\n",
       "      <th>1</th>\n",
       "      <td>2024</td>\n",
       "      <td>MI</td>\n",
       "      <td>FT</td>\n",
       "      <td>Data Scientist</td>\n",
       "      <td>70000</td>\n",
       "      <td>USD</td>\n",
       "      <td>70000</td>\n",
       "      <td>AU</td>\n",
       "      <td>0</td>\n",
       "      <td>AU</td>\n",
       "      <td>S</td>\n",
       "    </tr>\n",
       "    <tr>\n",
       "      <th>2</th>\n",
       "      <td>2024</td>\n",
       "      <td>MI</td>\n",
       "      <td>CT</td>\n",
       "      <td>Data Scientist</td>\n",
       "      <td>130000</td>\n",
       "      <td>USD</td>\n",
       "      <td>130000</td>\n",
       "      <td>US</td>\n",
       "      <td>0</td>\n",
       "      <td>US</td>\n",
       "      <td>M</td>\n",
       "    </tr>\n",
       "    <tr>\n",
       "      <th>3</th>\n",
       "      <td>2024</td>\n",
       "      <td>MI</td>\n",
       "      <td>CT</td>\n",
       "      <td>Data Scientist</td>\n",
       "      <td>110000</td>\n",
       "      <td>USD</td>\n",
       "      <td>110000</td>\n",
       "      <td>US</td>\n",
       "      <td>0</td>\n",
       "      <td>US</td>\n",
       "      <td>M</td>\n",
       "    </tr>\n",
       "    <tr>\n",
       "      <th>4</th>\n",
       "      <td>2024</td>\n",
       "      <td>MI</td>\n",
       "      <td>FT</td>\n",
       "      <td>Data Science Manager</td>\n",
       "      <td>240000</td>\n",
       "      <td>USD</td>\n",
       "      <td>240000</td>\n",
       "      <td>US</td>\n",
       "      <td>0</td>\n",
       "      <td>US</td>\n",
       "      <td>M</td>\n",
       "    </tr>\n",
       "    <tr>\n",
       "      <th>...</th>\n",
       "      <td>...</td>\n",
       "      <td>...</td>\n",
       "      <td>...</td>\n",
       "      <td>...</td>\n",
       "      <td>...</td>\n",
       "      <td>...</td>\n",
       "      <td>...</td>\n",
       "      <td>...</td>\n",
       "      <td>...</td>\n",
       "      <td>...</td>\n",
       "      <td>...</td>\n",
       "    </tr>\n",
       "    <tr>\n",
       "      <th>16489</th>\n",
       "      <td>2020</td>\n",
       "      <td>SE</td>\n",
       "      <td>FT</td>\n",
       "      <td>Data Scientist</td>\n",
       "      <td>412000</td>\n",
       "      <td>USD</td>\n",
       "      <td>412000</td>\n",
       "      <td>US</td>\n",
       "      <td>100</td>\n",
       "      <td>US</td>\n",
       "      <td>L</td>\n",
       "    </tr>\n",
       "    <tr>\n",
       "      <th>16490</th>\n",
       "      <td>2021</td>\n",
       "      <td>MI</td>\n",
       "      <td>FT</td>\n",
       "      <td>Principal Data Scientist</td>\n",
       "      <td>151000</td>\n",
       "      <td>USD</td>\n",
       "      <td>151000</td>\n",
       "      <td>US</td>\n",
       "      <td>100</td>\n",
       "      <td>US</td>\n",
       "      <td>L</td>\n",
       "    </tr>\n",
       "    <tr>\n",
       "      <th>16491</th>\n",
       "      <td>2020</td>\n",
       "      <td>EN</td>\n",
       "      <td>FT</td>\n",
       "      <td>Data Scientist</td>\n",
       "      <td>105000</td>\n",
       "      <td>USD</td>\n",
       "      <td>105000</td>\n",
       "      <td>US</td>\n",
       "      <td>100</td>\n",
       "      <td>US</td>\n",
       "      <td>S</td>\n",
       "    </tr>\n",
       "    <tr>\n",
       "      <th>16492</th>\n",
       "      <td>2020</td>\n",
       "      <td>EN</td>\n",
       "      <td>CT</td>\n",
       "      <td>Business Data Analyst</td>\n",
       "      <td>100000</td>\n",
       "      <td>USD</td>\n",
       "      <td>100000</td>\n",
       "      <td>US</td>\n",
       "      <td>100</td>\n",
       "      <td>US</td>\n",
       "      <td>L</td>\n",
       "    </tr>\n",
       "    <tr>\n",
       "      <th>16493</th>\n",
       "      <td>2021</td>\n",
       "      <td>SE</td>\n",
       "      <td>FT</td>\n",
       "      <td>Data Science Manager</td>\n",
       "      <td>7000000</td>\n",
       "      <td>INR</td>\n",
       "      <td>94665</td>\n",
       "      <td>IN</td>\n",
       "      <td>50</td>\n",
       "      <td>IN</td>\n",
       "      <td>L</td>\n",
       "    </tr>\n",
       "  </tbody>\n",
       "</table>\n",
       "<p>16494 rows × 11 columns</p>\n",
       "</div>"
      ],
      "text/plain": [
       "       work_year experience_level employment_type                 job_title  \\\n",
       "0           2024               MI              FT            Data Scientist   \n",
       "1           2024               MI              FT            Data Scientist   \n",
       "2           2024               MI              CT            Data Scientist   \n",
       "3           2024               MI              CT            Data Scientist   \n",
       "4           2024               MI              FT      Data Science Manager   \n",
       "...          ...              ...             ...                       ...   \n",
       "16489       2020               SE              FT            Data Scientist   \n",
       "16490       2021               MI              FT  Principal Data Scientist   \n",
       "16491       2020               EN              FT            Data Scientist   \n",
       "16492       2020               EN              CT     Business Data Analyst   \n",
       "16493       2021               SE              FT      Data Science Manager   \n",
       "\n",
       "        salary salary_currency  salary_in_usd employee_residence  \\\n",
       "0       120000             USD         120000                 AU   \n",
       "1        70000             USD          70000                 AU   \n",
       "2       130000             USD         130000                 US   \n",
       "3       110000             USD         110000                 US   \n",
       "4       240000             USD         240000                 US   \n",
       "...        ...             ...            ...                ...   \n",
       "16489   412000             USD         412000                 US   \n",
       "16490   151000             USD         151000                 US   \n",
       "16491   105000             USD         105000                 US   \n",
       "16492   100000             USD         100000                 US   \n",
       "16493  7000000             INR          94665                 IN   \n",
       "\n",
       "       remote_ratio company_location company_size  \n",
       "0                 0               AU            S  \n",
       "1                 0               AU            S  \n",
       "2                 0               US            M  \n",
       "3                 0               US            M  \n",
       "4                 0               US            M  \n",
       "...             ...              ...          ...  \n",
       "16489           100               US            L  \n",
       "16490           100               US            L  \n",
       "16491           100               US            S  \n",
       "16492           100               US            L  \n",
       "16493            50               IN            L  \n",
       "\n",
       "[16494 rows x 11 columns]"
      ]
     },
     "execution_count": 3,
     "metadata": {},
     "output_type": "execute_result"
    }
   ],
   "source": [
    "dataset"
   ]
  },
  {
   "cell_type": "markdown",
   "id": "ac09e6b2",
   "metadata": {},
   "source": [
    "## To-do\n",
    "\n",
    "to predict -> salary \n",
    "\n",
    "Data cleaning : \n",
    "1. To drop -> salary , salary_currency , work_year, remote_ratio\n",
    "2. Assign [ experience_level , company_size , employment_type] according to priorities\n",
    "\n",
    "Normalization\n",
    "\n",
    "Training:\n",
    "1. X -> everything excluding salary column \n",
    "2. Y -> salary"
   ]
  },
  {
   "cell_type": "code",
   "execution_count": 4,
   "id": "7aa1fa10",
   "metadata": {},
   "outputs": [
    {
     "data": {
      "text/html": [
       "<div>\n",
       "<style scoped>\n",
       "    .dataframe tbody tr th:only-of-type {\n",
       "        vertical-align: middle;\n",
       "    }\n",
       "\n",
       "    .dataframe tbody tr th {\n",
       "        vertical-align: top;\n",
       "    }\n",
       "\n",
       "    .dataframe thead th {\n",
       "        text-align: right;\n",
       "    }\n",
       "</style>\n",
       "<table border=\"1\" class=\"dataframe\">\n",
       "  <thead>\n",
       "    <tr style=\"text-align: right;\">\n",
       "      <th></th>\n",
       "      <th>experience_level</th>\n",
       "      <th>employment_type</th>\n",
       "      <th>job_title</th>\n",
       "      <th>salary_in_usd</th>\n",
       "      <th>employee_residence</th>\n",
       "      <th>company_location</th>\n",
       "      <th>company_size</th>\n",
       "    </tr>\n",
       "  </thead>\n",
       "  <tbody>\n",
       "    <tr>\n",
       "      <th>0</th>\n",
       "      <td>MI</td>\n",
       "      <td>FT</td>\n",
       "      <td>Data Scientist</td>\n",
       "      <td>120000</td>\n",
       "      <td>AU</td>\n",
       "      <td>AU</td>\n",
       "      <td>S</td>\n",
       "    </tr>\n",
       "    <tr>\n",
       "      <th>1</th>\n",
       "      <td>MI</td>\n",
       "      <td>FT</td>\n",
       "      <td>Data Scientist</td>\n",
       "      <td>70000</td>\n",
       "      <td>AU</td>\n",
       "      <td>AU</td>\n",
       "      <td>S</td>\n",
       "    </tr>\n",
       "    <tr>\n",
       "      <th>2</th>\n",
       "      <td>MI</td>\n",
       "      <td>CT</td>\n",
       "      <td>Data Scientist</td>\n",
       "      <td>130000</td>\n",
       "      <td>US</td>\n",
       "      <td>US</td>\n",
       "      <td>M</td>\n",
       "    </tr>\n",
       "    <tr>\n",
       "      <th>3</th>\n",
       "      <td>MI</td>\n",
       "      <td>CT</td>\n",
       "      <td>Data Scientist</td>\n",
       "      <td>110000</td>\n",
       "      <td>US</td>\n",
       "      <td>US</td>\n",
       "      <td>M</td>\n",
       "    </tr>\n",
       "    <tr>\n",
       "      <th>4</th>\n",
       "      <td>MI</td>\n",
       "      <td>FT</td>\n",
       "      <td>Data Science Manager</td>\n",
       "      <td>240000</td>\n",
       "      <td>US</td>\n",
       "      <td>US</td>\n",
       "      <td>M</td>\n",
       "    </tr>\n",
       "  </tbody>\n",
       "</table>\n",
       "</div>"
      ],
      "text/plain": [
       "  experience_level employment_type             job_title  salary_in_usd  \\\n",
       "0               MI              FT        Data Scientist         120000   \n",
       "1               MI              FT        Data Scientist          70000   \n",
       "2               MI              CT        Data Scientist         130000   \n",
       "3               MI              CT        Data Scientist         110000   \n",
       "4               MI              FT  Data Science Manager         240000   \n",
       "\n",
       "  employee_residence company_location company_size  \n",
       "0                 AU               AU            S  \n",
       "1                 AU               AU            S  \n",
       "2                 US               US            M  \n",
       "3                 US               US            M  \n",
       "4                 US               US            M  "
      ]
     },
     "execution_count": 4,
     "metadata": {},
     "output_type": "execute_result"
    }
   ],
   "source": [
    "dataset = dataset.drop(['salary', 'salary_currency' , 'work_year' , 'remote_ratio'], axis=1)\n",
    "dataset.head()"
   ]
  },
  {
   "cell_type": "code",
   "execution_count": 21,
   "id": "d9eec239",
   "metadata": {},
   "outputs": [],
   "source": [
    "# This label encoder label encodes randomly \n",
    "\n",
    "# le = LabelEncoder()\n",
    "# #dataset[\"company_size\"] = le.fit_transform(dataset[\"company_size\"])\n",
    "# dataset[\"job_title\"] = le.fit_transform(dataset[\"job_title\"])\n",
    "# dataset[\"employee_residence\"] = le.fit_transform(dataset[\"employee_residence\"])\n",
    "# dataset[\"company_location\"] = le.fit_transform(dataset[\"company_location\"])"
   ]
  },
  {
   "cell_type": "code",
   "execution_count": 22,
   "id": "fdb31879",
   "metadata": {},
   "outputs": [],
   "source": [
    "# dataset.head()"
   ]
  },
  {
   "cell_type": "code",
   "execution_count": 7,
   "id": "175ec84f",
   "metadata": {},
   "outputs": [],
   "source": [
    "# This split the columns -> one hot encoding \n",
    "\n",
    "#Y = pd.get_dummies(data = dataset , columns = ['employment_type']"
   ]
  },
  {
   "cell_type": "code",
   "execution_count": 8,
   "id": "c681cff5",
   "metadata": {},
   "outputs": [
    {
     "data": {
      "text/plain": [
       "array([['MI', 'MI', 'MI', ..., 'EN', 'EN', 'SE'],\n",
       "       ['FT', 'FT', 'CT', ..., 'FT', 'CT', 'FT'],\n",
       "       ['Data Scientist', 'Data Scientist', 'Data Scientist', ...,\n",
       "        'Data Scientist', 'Business Data Analyst',\n",
       "        'Data Science Manager'],\n",
       "       ...,\n",
       "       ['AU', 'AU', 'US', ..., 'US', 'US', 'IN'],\n",
       "       ['AU', 'AU', 'US', ..., 'US', 'US', 'IN'],\n",
       "       ['S', 'S', 'M', ..., 'S', 'L', 'L']], dtype=object)"
      ]
     },
     "execution_count": 8,
     "metadata": {},
     "output_type": "execute_result"
    }
   ],
   "source": [
    "cols = dataset.columns\n",
    "arr = np.asarray(dataset[cols])\n",
    "arr = arr.transpose()\n",
    "arr"
   ]
  },
  {
   "cell_type": "code",
   "execution_count": 9,
   "id": "311b9385",
   "metadata": {},
   "outputs": [],
   "source": [
    "# This function take the string based column and assign prioritized value accoring to avg salaries \n",
    "# More the avg salary better the number \n",
    "\n",
    "def prioritize_encoding(column , salary):\n",
    "    s = column.size \n",
    "    d = {}\n",
    "    for i,j in zip(column , salary):\n",
    "        if i in d:\n",
    "            d[i][0]+=j\n",
    "            d[i][1]+=1\n",
    "        else :\n",
    "            d[i]= [ j , 1 ]\n",
    "    val = []\n",
    "    for key in d :\n",
    "        val.append((d[key][0]/d[key][1] , key ))\n",
    "    val = sorted(val, key=lambda x:x[0])\n",
    "    final = dict()\n",
    "    count = 0\n",
    "    for i,j in val:\n",
    "        final[j]= count \n",
    "        count += 1\n",
    "    \n",
    "    for i in range(len(column)) :\n",
    "        column[i]=final[column[i]]\n",
    "    #return column\n",
    "    "
   ]
  },
  {
   "cell_type": "code",
   "execution_count": 10,
   "id": "51ae1943",
   "metadata": {},
   "outputs": [],
   "source": [
    "# Encodes the required columns \n",
    "\n",
    "prioritize_encoding(arr[0] , arr[3])\n",
    "prioritize_encoding(arr[1] , arr[3])\n",
    "prioritize_encoding(arr[2] , arr[3])\n",
    "prioritize_encoding(arr[4] , arr[3])\n",
    "prioritize_encoding(arr[5] , arr[3])\n",
    "prioritize_encoding(arr[6] , arr[3])"
   ]
  },
  {
   "cell_type": "code",
   "execution_count": 11,
   "id": "8db72ca2",
   "metadata": {},
   "outputs": [
    {
     "data": {
      "text/plain": [
       "array([[1, 1, 1, ..., 0, 0, 2],\n",
       "       [3, 3, 2, ..., 3, 2, 3],\n",
       "       [111, 111, 111, ..., 111, 22, 140],\n",
       "       ...,\n",
       "       [76, 76, 83, ..., 83, 83, 18],\n",
       "       [67, 67, 73, ..., 73, 73, 12],\n",
       "       [0, 0, 2, ..., 0, 1, 1]], dtype=object)"
      ]
     },
     "execution_count": 11,
     "metadata": {},
     "output_type": "execute_result"
    }
   ],
   "source": [
    "arr = np.asarray(arr)\n",
    "arr"
   ]
  },
  {
   "cell_type": "code",
   "execution_count": 12,
   "id": "b894e2d3",
   "metadata": {},
   "outputs": [
    {
     "data": {
      "text/html": [
       "<div>\n",
       "<style scoped>\n",
       "    .dataframe tbody tr th:only-of-type {\n",
       "        vertical-align: middle;\n",
       "    }\n",
       "\n",
       "    .dataframe tbody tr th {\n",
       "        vertical-align: top;\n",
       "    }\n",
       "\n",
       "    .dataframe thead th {\n",
       "        text-align: right;\n",
       "    }\n",
       "</style>\n",
       "<table border=\"1\" class=\"dataframe\">\n",
       "  <thead>\n",
       "    <tr style=\"text-align: right;\">\n",
       "      <th></th>\n",
       "      <th>experience_level</th>\n",
       "      <th>employment_type</th>\n",
       "      <th>job_title</th>\n",
       "      <th>salary_in_usd</th>\n",
       "      <th>employee_residence</th>\n",
       "      <th>company_location</th>\n",
       "      <th>company_size</th>\n",
       "    </tr>\n",
       "  </thead>\n",
       "  <tbody>\n",
       "    <tr>\n",
       "      <th>0</th>\n",
       "      <td>1</td>\n",
       "      <td>3</td>\n",
       "      <td>111</td>\n",
       "      <td>120000</td>\n",
       "      <td>76</td>\n",
       "      <td>67</td>\n",
       "      <td>0</td>\n",
       "    </tr>\n",
       "    <tr>\n",
       "      <th>1</th>\n",
       "      <td>1</td>\n",
       "      <td>3</td>\n",
       "      <td>111</td>\n",
       "      <td>70000</td>\n",
       "      <td>76</td>\n",
       "      <td>67</td>\n",
       "      <td>0</td>\n",
       "    </tr>\n",
       "    <tr>\n",
       "      <th>2</th>\n",
       "      <td>1</td>\n",
       "      <td>2</td>\n",
       "      <td>111</td>\n",
       "      <td>130000</td>\n",
       "      <td>83</td>\n",
       "      <td>73</td>\n",
       "      <td>2</td>\n",
       "    </tr>\n",
       "    <tr>\n",
       "      <th>3</th>\n",
       "      <td>1</td>\n",
       "      <td>2</td>\n",
       "      <td>111</td>\n",
       "      <td>110000</td>\n",
       "      <td>83</td>\n",
       "      <td>73</td>\n",
       "      <td>2</td>\n",
       "    </tr>\n",
       "    <tr>\n",
       "      <th>4</th>\n",
       "      <td>1</td>\n",
       "      <td>3</td>\n",
       "      <td>140</td>\n",
       "      <td>240000</td>\n",
       "      <td>83</td>\n",
       "      <td>73</td>\n",
       "      <td>2</td>\n",
       "    </tr>\n",
       "  </tbody>\n",
       "</table>\n",
       "</div>"
      ],
      "text/plain": [
       "  experience_level employment_type job_title salary_in_usd employee_residence  \\\n",
       "0                1               3       111        120000                 76   \n",
       "1                1               3       111         70000                 76   \n",
       "2                1               2       111        130000                 83   \n",
       "3                1               2       111        110000                 83   \n",
       "4                1               3       140        240000                 83   \n",
       "\n",
       "  company_location company_size  \n",
       "0               67            0  \n",
       "1               67            0  \n",
       "2               73            2  \n",
       "3               73            2  \n",
       "4               73            2  "
      ]
     },
     "execution_count": 12,
     "metadata": {},
     "output_type": "execute_result"
    }
   ],
   "source": [
    "# just checking it by converting back to dataframe \n",
    "\n",
    "copy_arr = arr\n",
    "copy_arr = copy_arr.transpose()\n",
    "df = pd.DataFrame(copy_arr , columns = cols)\n",
    "df.head()"
   ]
  },
  {
   "cell_type": "markdown",
   "id": "d636d67e",
   "metadata": {},
   "source": [
    "## Start training "
   ]
  },
  {
   "cell_type": "code",
   "execution_count": 13,
   "id": "c75a0b83",
   "metadata": {},
   "outputs": [
    {
     "data": {
      "text/plain": [
       "array([[1, 1, 1, ..., 0, 0, 2],\n",
       "       [3, 3, 2, ..., 3, 2, 3],\n",
       "       [111, 111, 111, ..., 111, 22, 140],\n",
       "       ...,\n",
       "       [76, 76, 83, ..., 83, 83, 18],\n",
       "       [67, 67, 73, ..., 73, 73, 12],\n",
       "       [0, 0, 2, ..., 0, 1, 1]], dtype=object)"
      ]
     },
     "execution_count": 13,
     "metadata": {},
     "output_type": "execute_result"
    }
   ],
   "source": [
    "arr"
   ]
  },
  {
   "cell_type": "code",
   "execution_count": 14,
   "id": "eee7d365",
   "metadata": {},
   "outputs": [
    {
     "data": {
      "text/plain": [
       "(16494,)"
      ]
     },
     "execution_count": 14,
     "metadata": {},
     "output_type": "execute_result"
    }
   ],
   "source": [
    "Y = arr[3]\n",
    "#Y = Y / Y.max(axis=0)\n",
    "Y.shape "
   ]
  },
  {
   "cell_type": "code",
   "execution_count": 15,
   "id": "0b176cbc",
   "metadata": {},
   "outputs": [
    {
     "data": {
      "text/plain": [
       "(16494, 6)"
      ]
     },
     "execution_count": 15,
     "metadata": {},
     "output_type": "execute_result"
    }
   ],
   "source": [
    "X = np.delete(arr , 3 , axis=0 )\n",
    "X = X.transpose()\n",
    "X = X / X.max(axis=0)\n",
    "X.shape "
   ]
  },
  {
   "cell_type": "code",
   "execution_count": 16,
   "id": "56029e56",
   "metadata": {},
   "outputs": [],
   "source": [
    "X_train , X_test , Y_train , Y_test = train_test_split(X, Y, test_size = 0.2)"
   ]
  },
  {
   "cell_type": "code",
   "execution_count": 17,
   "id": "d0eb9563",
   "metadata": {},
   "outputs": [
    {
     "data": {
      "text/plain": [
       "LinearRegression()"
      ]
     },
     "execution_count": 17,
     "metadata": {},
     "output_type": "execute_result"
    }
   ],
   "source": [
    "model = LinearRegression()\n",
    "model.fit(X_train, Y_train)"
   ]
  },
  {
   "cell_type": "code",
   "execution_count": 18,
   "id": "d7ea0f4e",
   "metadata": {},
   "outputs": [
    {
     "name": "stdout",
     "output_type": "stream",
     "text": [
      "[ 67301.29182771   7467.35648082 133131.75480317  82020.48990482\n",
      "  66296.32542081    347.33602152]\n"
     ]
    },
    {
     "data": {
      "text/plain": [
       "-120725.8362105997"
      ]
     },
     "execution_count": 18,
     "metadata": {},
     "output_type": "execute_result"
    }
   ],
   "source": [
    "print(model.coef_)\n",
    "model.intercept_"
   ]
  },
  {
   "cell_type": "code",
   "execution_count": 19,
   "id": "a00f153a",
   "metadata": {},
   "outputs": [
    {
     "name": "stdout",
     "output_type": "stream",
     "text": [
      "(3299,)\n",
      "(3299,)\n",
      "[185000 83300 70000 ... 144000 90000 76300]\n",
      "[165521.32519788  82616.15308326  80844.14342525 ... 175895.22816955\n",
      " 147410.02082684 103320.93319722]\n"
     ]
    }
   ],
   "source": [
    "Y_pred = model.predict(X_test).flatten()    # predicted value of y_test\n",
    "#Y_test = Y_test.to_numpy().flatten()\n",
    "\n",
    "print(Y_pred.shape)\n",
    "print(Y_test.shape)\n",
    "print(Y_test)\n",
    "print(Y_pred)"
   ]
  },
  {
   "cell_type": "code",
   "execution_count": 20,
   "id": "638f68b1",
   "metadata": {},
   "outputs": [
    {
     "name": "stdout",
     "output_type": "stream",
     "text": [
      "0.30713646383985127\n"
     ]
    }
   ],
   "source": [
    "score = model.score(X_test, Y_test)\n",
    "print(score)"
   ]
  },
  {
   "cell_type": "markdown",
   "id": "ed279d1f",
   "metadata": {},
   "source": [
    "## Scores\n",
    "\n",
    "No normalization accuracy -> 0.3030163423516792 <br>\n",
    "Only X normalized -> 0.33412542662336675 <br>\n",
    "Both Normalized -> 0.31639566033343036"
   ]
  },
  {
   "cell_type": "code",
   "execution_count": null,
   "id": "7cc7307e",
   "metadata": {},
   "outputs": [],
   "source": []
  },
  {
   "cell_type": "code",
   "execution_count": null,
   "id": "2ea3702a",
   "metadata": {},
   "outputs": [],
   "source": []
  }
 ],
 "metadata": {
  "kernelspec": {
   "display_name": "Python 3 (ipykernel)",
   "language": "python",
   "name": "python3"
  },
  "language_info": {
   "codemirror_mode": {
    "name": "ipython",
    "version": 3
   },
   "file_extension": ".py",
   "mimetype": "text/x-python",
   "name": "python",
   "nbconvert_exporter": "python",
   "pygments_lexer": "ipython3",
   "version": "3.9.12"
  }
 },
 "nbformat": 4,
 "nbformat_minor": 5
}
